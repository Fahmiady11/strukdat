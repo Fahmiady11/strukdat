{
 "cells": [
  {
   "cell_type": "code",
   "execution_count": 3,
   "metadata": {},
   "outputs": [
    {
     "name": "stdout",
     "output_type": "stream",
     "text": [
      "Bilangan Prima [3, 5, 7, 11, 13, 17, 19, 23, 29, 31, 37, 41, 43, 47, 53, 59, 61, 67, 71, 73, 79, 83, 89, 97]\n",
      "Bilangan ganjil bukan Prima [1, 9, 15, 21, 25, 27, 33, 35, 39, 45, 49, 51, 55, 57, 63, 65, 69, 75, 77, 81, 85, 87, 91, 93, 95, 99]\n"
     ]
    }
   ],
   "source": [
    "def primaganjil(num):\n",
    "    bilprima = []\n",
    "    bukanprima = []\n",
    "    while num > 0:\n",
    "        if num <= 1:\n",
    "            bukanprima.insert(0,num)\n",
    "        else:\n",
    "            for i in range(2,num):\n",
    "                if (num % i) == 0:\n",
    "                    if num % 2 == 1:\n",
    "                        bukanprima.insert(0,num)\n",
    "                    break\n",
    "            else:\n",
    "                if num % 2 == 1:\n",
    "                    bilprima.insert(0,num)\n",
    "        num -= 1\n",
    "    return bilprima, bukanprima\n",
    "\n",
    "bilprima,bukanprima = primaganjil(100)\n",
    "print(\"Bilangan Prima\",bilprima)\n",
    "print(\"Bilangan ganjil bukan Prima\",bukanprima)"
   ]
  },
  {
   "cell_type": "code",
   "execution_count": 5,
   "metadata": {},
   "outputs": [
    {
     "data": {
      "text/plain": [
       "2.0"
      ]
     },
     "execution_count": 5,
     "metadata": {},
     "output_type": "execute_result"
    }
   ],
   "source": [
    "def sigma(n):\n",
    "\n",
    "    total = 0\n",
    "    bagi = 5 * n\n",
    "    for i in range(1,n+1):\n",
    "        jumlah = 3 * i + 4\n",
    "        total += jumlah\n",
    "    return total / bagi\n",
    "    \n",
    "sigma(3)"
   ]
  },
  {
   "cell_type": "code",
   "execution_count": 9,
   "metadata": {},
   "outputs": [
    {
     "name": "stdout",
     "output_type": "stream",
     "text": [
      "[9, 14, 9, 0, 2, 4, 6, 2]\n"
     ]
    }
   ],
   "source": [
    "def jumlah(x,y):\n",
    "    total = []\n",
    "    data = []\n",
    "    if len(x) > len(y):\n",
    "        a = len(x)\n",
    "        b = len(y)\n",
    "        c = a - b\n",
    "        for i in range(c):\n",
    "            y.append(0)\n",
    "    elif len(x) < len(y):\n",
    "        a = len(x)\n",
    "        b = len(y)\n",
    "        c = b - a\n",
    "        for i in range(c):\n",
    "            x.append(0)\n",
    "    else:\n",
    "        pass\n",
    "    for i in range(len(x)):\n",
    "        hasil = 0\n",
    "        hasil = hasil + x[i] + y[i]\n",
    "        data.append(hasil)\n",
    "    return data\n",
    "\n",
    "x = [2,1,5,6]\n",
    "y = [6,7]\n",
    "z = [3,7,9,0,2,4,6,2]\n",
    "print(jumlah(z,y))\n"
   ]
  },
  {
   "cell_type": "code",
   "execution_count": 11,
   "metadata": {},
   "outputs": [
    {
     "data": {
      "text/plain": [
       "[1, 3, 7, 21]"
      ]
     },
     "execution_count": 11,
     "metadata": {},
     "output_type": "execute_result"
    }
   ],
   "source": [
    "def faktor(x):\n",
    "    bil = []\n",
    "    for i in range(1,x+1):\n",
    "        if x % i == 0:\n",
    "            bil.append(i)\n",
    "    return bil\n",
    "\n",
    "faktor(21)"
   ]
  }
 ],
 "metadata": {
  "kernelspec": {
   "display_name": "Python 3",
   "language": "python",
   "name": "python3"
  },
  "language_info": {
   "codemirror_mode": {
    "name": "ipython",
    "version": 3
   },
   "file_extension": ".py",
   "mimetype": "text/x-python",
   "name": "python",
   "nbconvert_exporter": "python",
   "pygments_lexer": "ipython3",
   "version": "3.6.9"
  }
 },
 "nbformat": 4,
 "nbformat_minor": 4
}
