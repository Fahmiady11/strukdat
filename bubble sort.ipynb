{
 "cells": [
  {
   "cell_type": "code",
   "execution_count": 7,
   "metadata": {
    "scrolled": true
   },
   "outputs": [
    {
     "name": "stdout",
     "output_type": "stream",
     "text": [
      "Masukkan Berapa Data Yang Akan Dimasukkan: 6\n",
      "Masukkan Data Ke-1: 3\n",
      "Masukkan Data Ke-2: 8\n",
      "Masukkan Data Ke-3: 2\n",
      "Masukkan Data Ke-4: 20\n",
      "Masukkan Data Ke-5: 9\n",
      "Masukkan Data Ke-6: 1\n",
      "Nilai Awal:  [3, 8, 2, 20, 9, 1]\n",
      "Iterasi Ke- 1 Jumlah Iterasi- 5\n",
      "[3, 8, 2, 20, 9, 1]\n",
      "[3, 2, 8, 20, 9, 1]\n",
      "[3, 2, 8, 20, 9, 1]\n",
      "[3, 2, 8, 9, 20, 1]\n",
      "[3, 2, 8, 9, 1, 20]\n",
      "Data Sudah Urut:  [3, 2, 8, 9, 1, 20]\n"
     ]
    },
    {
     "data": {
      "text/plain": [
       "[3, 2, 8, 9, 1, 20]"
      ]
     },
     "execution_count": 7,
     "metadata": {},
     "output_type": "execute_result"
    }
   ],
   "source": [
    "def sorting(data):\n",
    "    print(\"Nilai Awal: \", data)\n",
    "    for i in range(len(data)-1,0,-1):\n",
    "        print(\"Iterasi Ke-\", len(data)-i, \"Jumlah Iterasi-\",i)\n",
    "        for j in range(i):\n",
    "            if data[j] > data[j+1]:\n",
    "                data[j],data[j+1] = data[j+1],data[j]\n",
    "            print(data)\n",
    "        for k in range(len(data)-1):\n",
    "            cek = True\n",
    "            if data[k] <= data[k+1]:\n",
    "                cek = cek and True\n",
    "            else:\n",
    "                cek = cek and False\n",
    "        if cek:\n",
    "            print(\"Data Sudah Urut: \", data)\n",
    "            return data\n",
    "data = []\n",
    "b = int(input(\"Masukkan Berapa Data Yang Akan Dimasukkan: \"))\n",
    "for i in range(b):\n",
    "    a = int(input(\"Masukkan Data Ke-\" + str(i+1) + \": \" ))\n",
    "    data.append(a)\n",
    "sorting(data)"
   ]
  }
 ],
 "metadata": {
  "kernelspec": {
   "display_name": "Python 3",
   "language": "python",
   "name": "python3"
  },
  "language_info": {
   "codemirror_mode": {
    "name": "ipython",
    "version": 3
   },
   "file_extension": ".py",
   "mimetype": "text/x-python",
   "name": "python",
   "nbconvert_exporter": "python",
   "pygments_lexer": "ipython3",
   "version": "3.6.9"
  }
 },
 "nbformat": 4,
 "nbformat_minor": 4
}
