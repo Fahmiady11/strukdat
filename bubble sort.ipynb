{
 "cells": [
  {
   "cell_type": "code",
   "execution_count": 2,
   "metadata": {
    "scrolled": true
   },
   "outputs": [
    {
     "name": "stdout",
     "output_type": "stream",
     "text": [
      "Masukkan Berapa Data Yang Akan Dimasukkan: 7\n",
      "Masukkan Data Ke-1: 90\n",
      "Masukkan Data Ke-2: 53\n",
      "Masukkan Data Ke-3: 20\n",
      "Masukkan Data Ke-4: 75\n",
      "Masukkan Data Ke-5: 32\n",
      "Masukkan Data Ke-6: 45\n",
      "Masukkan Data Ke-7: 26\n",
      "Nilai Awal:  [90, 53, 20, 75, 32, 45, 26]\n",
      "Iterasi Ke- 1 Jumlah Iterasi- 6\n",
      "[53, 90, 20, 75, 32, 45, 26]\n",
      "[53, 20, 90, 75, 32, 45, 26]\n",
      "[53, 20, 75, 90, 32, 45, 26]\n",
      "[53, 20, 75, 32, 90, 45, 26]\n",
      "[53, 20, 75, 32, 45, 90, 26]\n",
      "[53, 20, 75, 32, 45, 26, 90]\n",
      "Iterasi Ke- 2 Jumlah Iterasi- 5\n",
      "[20, 53, 75, 32, 45, 26, 90]\n",
      "[20, 53, 75, 32, 45, 26, 90]\n",
      "[20, 53, 32, 75, 45, 26, 90]\n",
      "[20, 53, 32, 45, 75, 26, 90]\n",
      "[20, 53, 32, 45, 26, 75, 90]\n",
      "Iterasi Ke- 3 Jumlah Iterasi- 4\n",
      "[20, 53, 32, 45, 26, 75, 90]\n",
      "[20, 32, 53, 45, 26, 75, 90]\n",
      "[20, 32, 45, 53, 26, 75, 90]\n",
      "[20, 32, 45, 26, 53, 75, 90]\n",
      "Iterasi Ke- 4 Jumlah Iterasi- 3\n",
      "[20, 32, 45, 26, 53, 75, 90]\n",
      "[20, 32, 45, 26, 53, 75, 90]\n",
      "[20, 32, 26, 45, 53, 75, 90]\n",
      "Iterasi Ke- 5 Jumlah Iterasi- 2\n",
      "[20, 32, 26, 45, 53, 75, 90]\n",
      "[20, 26, 32, 45, 53, 75, 90]\n",
      "Data Sudah Urut:  [20, 26, 32, 45, 53, 75, 90]\n"
     ]
    },
    {
     "data": {
      "text/plain": [
       "[20, 26, 32, 45, 53, 75, 90]"
      ]
     },
     "execution_count": 2,
     "metadata": {},
     "output_type": "execute_result"
    }
   ],
   "source": [
    "def sorting(data):\n",
    "    print(\"Nilai Awal: \", data)\n",
    "    for i in range(len(data)-1,0,-1):\n",
    "        print(\"Iterasi Ke-\", len(data)-i, \"Jumlah Iterasi-\",i)\n",
    "        for j in range(i):\n",
    "            if data[j] > data[j+1]:\n",
    "                data[j],data[j+1] = data[j+1],data[j]\n",
    "            print(data)\n",
    "        cek = True\n",
    "        for k in range(len(data)-1):\n",
    "            if data[k] <= data[k+1]:\n",
    "                cek = cek and True\n",
    "            else:\n",
    "                cek = cek and False\n",
    "        if cek:\n",
    "            print(\"Data Sudah Urut: \", data)\n",
    "            return data\n",
    "data = []\n",
    "b = int(input(\"Masukkan Berapa Data Yang Akan Dimasukkan: \"))\n",
    "for i in range(b):\n",
    "    a = int(input(\"Masukkan Data Ke-\" + str(i+1) + \": \" ))\n",
    "    data.append(a)\n",
    "sorting(data)"
   ]
  }
 ],
 "metadata": {
  "kernelspec": {
   "display_name": "Python 3",
   "language": "python",
   "name": "python3"
  },
  "language_info": {
   "codemirror_mode": {
    "name": "ipython",
    "version": 3
   },
   "file_extension": ".py",
   "mimetype": "text/x-python",
   "name": "python",
   "nbconvert_exporter": "python",
   "pygments_lexer": "ipython3",
   "version": "3.6.9"
  }
 },
 "nbformat": 4,
 "nbformat_minor": 4
}
