{
 "cells": [
  {
   "cell_type": "code",
   "execution_count": 1,
   "metadata": {},
   "outputs": [],
   "source": [
    "def createQueue():\n",
    "    q=[]\n",
    "    return (q)\n",
    "def enqueue(q,data):\n",
    "    q.insert(0,data)\n",
    "    return(q)\n",
    "def dequeue(q):\n",
    "    data=q.pop()\n",
    "    return(data)\n",
    "def isEmpty(q):\n",
    "    return (q==[])\n",
    "def size(q):\n",
    "    return (len(q))"
   ]
  },
  {
   "cell_type": "code",
   "execution_count": 6,
   "metadata": {},
   "outputs": [
    {
     "name": "stdout",
     "output_type": "stream",
     "text": [
      "Jumlah Proses Yang akan dijadwal di CPU: 2\n",
      "Nama Proses Ke 0: a\n",
      "Waktu Proses: 3\n",
      "Nama Proses Ke 1: b\n",
      "Waktu Proses: 2\n",
      "Antrian Proses: [['b', 2], ['a', 3]]\n",
      "Waktu Proses CPU: 2\n",
      "Iterasi Ke- 1: \n",
      "Proses a Dan Sisa Waktu Proses a = 1\n",
      "Data Proses Yang Tersisa [['a', 1], ['b', 2]]\n",
      "Iterasi Ke- 2: \n",
      "Proses b Telah Diproses\n",
      "Data Proses Yang Tersisa [['a', 1]]\n",
      "Iterasi Ke- 3: \n",
      "Proses a Telah Diproses\n",
      "Data Proses Yang Tersisa []\n"
     ]
    }
   ],
   "source": [
    "def cpu():\n",
    "    data = createQueue()\n",
    "    jum = int(input(\"Jumlah Proses Yang akan dijadwal di CPU: \"))\n",
    "    for i in range(jum):\n",
    "        namap = input(\"Nama Proses Ke \" +str(i) + \": \")\n",
    "        waktup = int(input(\"Waktu Proses: \"))\n",
    "        enqueue(data,[namap,waktup])\n",
    "        \n",
    "    print(\"Antrian Proses:\", data)\n",
    "    waktu = int(input(\"Waktu Proses CPU: \"))\n",
    "    i = 0\n",
    "    while not isEmpty(data):\n",
    "        print(\"Iterasi Ke- \"+ str(i+1) + \": \")\n",
    "        l = dequeue(data)\n",
    "        w = l[1] - waktu\n",
    "        if w > 0:\n",
    "            print(\"Proses \"+ str(l[0]) + \" Dan Sisa Waktu Proses \" + str(l[0]) + \" = \"  +str(w))\n",
    "            enqueue(data,[l[0],w])\n",
    "            print(\"Data Proses Yang Tersisa\", data)\n",
    "        else:\n",
    "            print(\"Proses \"+ str(l[0]) + \" Telah Diproses\" )\n",
    "            print(\"Data Proses Yang Tersisa\", data)\n",
    "        i += 1\n",
    "cpu()"
   ]
  }
 ],
 "metadata": {
  "kernelspec": {
   "display_name": "Python 3",
   "language": "python",
   "name": "python3"
  },
  "language_info": {
   "codemirror_mode": {
    "name": "ipython",
    "version": 3
   },
   "file_extension": ".py",
   "mimetype": "text/x-python",
   "name": "python",
   "nbconvert_exporter": "python",
   "pygments_lexer": "ipython3",
   "version": "3.6.9"
  }
 },
 "nbformat": 4,
 "nbformat_minor": 4
}
