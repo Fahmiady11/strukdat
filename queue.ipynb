{
 "cells": [
  {
   "cell_type": "code",
   "execution_count": 1,
   "metadata": {},
   "outputs": [],
   "source": [
    "def createQueue():\n",
    "    q=[]\n",
    "    return (q)\n",
    "def enqueue(q,data):\n",
    "    q.insert(0,data)\n",
    "    return(q)\n",
    "def dequeue(q):\n",
    "    data=q.pop()\n",
    "    return(data)\n",
    "def isEmpty(q):\n",
    "    return (q==[])\n",
    "def size(q):\n",
    "    return (len(q))"
   ]
  },
  {
   "cell_type": "code",
   "execution_count": 89,
   "metadata": {
    "scrolled": true
   },
   "outputs": [
    {
     "name": "stdout",
     "output_type": "stream",
     "text": [
      "Berapa Banyak Pasien? 2\n",
      "Masukkan Nama Pasien: firman\n",
      "Masukkan Nama Pasien: edam\n",
      "Tingkat Keparahan Penyakit Pasien Nomor: 1 ? (Ringan/Sedang/Parah)parah\n",
      "Nomer Urut Pasien : 1\n",
      "Nama Pasien:firman\n",
      "Tingkat Keparahan Pasien:parah\n",
      "Waktu Yang Dibutuhkan di Fasilitas:  10\n",
      "Total Waktu Yang Dibutuhkan:  10\n",
      "\n",
      "Tingkat Keparahan Penyakit Pasien Nomor: 2 ? (Ringan/Sedang/Parah)sedang\n",
      "Nomer Urut Pasien : 2\n",
      "Nama Pasien:edam\n",
      "Tingkat Keparahan Pasien:sedang\n",
      "Waktu Yang Dibutuhkan di Fasilitas:  7\n",
      "Total Waktu Yang Dibutuhkan:  17\n",
      "\n",
      "Total Pasien:  2\n"
     ]
    }
   ],
   "source": [
    "def antrian(nama):\n",
    "    antrian = createQueue()\n",
    "    total = 0\n",
    "    for i in nama:\n",
    "        enqueue(antrian,i)\n",
    "    for i in range(size(antrian)):\n",
    "        tingkat = input(\"Tingkat Keparahan Penyakit Pasien Nomor: \"+ str(i+1)+\" ? (Ringan/Sedang/Parah)\")\n",
    "        if tingkat == 'ringan':\n",
    "            waktu = 5\n",
    "        elif tingkat == 'sedang':\n",
    "            waktu = 7\n",
    "        elif tingkat == 'parah':\n",
    "            waktu = 10\n",
    "        else:\n",
    "            print(\"Tidak Ada Di Pilihan, Silahkan Mengulang Lagi\")\n",
    "            break\n",
    "        total = total + waktu\n",
    "        print(\"Nomer Urut Pasien :\", i+1)\n",
    "        print(\"Nama Pasien:\" + dequeue(antrian))\n",
    "        print(\"Tingkat Keparahan Pasien:\" + tingkat)\n",
    "        print(\"Waktu Yang Dibutuhkan di Fasilitas: \", waktu)\n",
    "        print(\"Total Waktu Yang Dibutuhkan: \", total )\n",
    "        print()\n",
    "    print(\"Total Pasien: \", size(nama))\n",
    "        \n",
    "nama = []\n",
    "data = int(input(\"Berapa Banyak Pasien? \"))\n",
    "for i in range(data):\n",
    "    jeneng = input(\"Masukkan Nama Pasien: \")\n",
    "    nama.append(jeneng)\n",
    "antrian(nama)"
   ]
  }
 ],
 "metadata": {
  "kernelspec": {
   "display_name": "Python 3",
   "language": "python",
   "name": "python3"
  },
  "language_info": {
   "codemirror_mode": {
    "name": "ipython",
    "version": 3
   },
   "file_extension": ".py",
   "mimetype": "text/x-python",
   "name": "python",
   "nbconvert_exporter": "python",
   "pygments_lexer": "ipython3",
   "version": "3.6.9"
  }
 },
 "nbformat": 4,
 "nbformat_minor": 4
}
